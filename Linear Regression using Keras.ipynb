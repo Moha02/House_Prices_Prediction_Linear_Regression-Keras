{
 "cells": [
  {
   "cell_type": "code",
   "execution_count": 1,
   "metadata": {
    "scrolled": true
   },
   "outputs": [
    {
     "name": "stderr",
     "output_type": "stream",
     "text": [
      "Using TensorFlow backend.\n"
     ]
    }
   ],
   "source": [
    "import keras \n",
    "import tensorflow as tf\n",
    "import pandas as pd #Data-handling Library\n",
    "import matplotlib.pyplot as plt #Used to graph our results\n",
    "#Using TensorFlow backend."
   ]
  },
  {
   "cell_type": "code",
   "execution_count": 2,
   "metadata": {},
   "outputs": [
    {
     "data": {
      "text/html": [
       "<div>\n",
       "<style scoped>\n",
       "    .dataframe tbody tr th:only-of-type {\n",
       "        vertical-align: middle;\n",
       "    }\n",
       "\n",
       "    .dataframe tbody tr th {\n",
       "        vertical-align: top;\n",
       "    }\n",
       "\n",
       "    .dataframe thead th {\n",
       "        text-align: right;\n",
       "    }\n",
       "</style>\n",
       "<table border=\"1\" class=\"dataframe\">\n",
       "  <thead>\n",
       "    <tr style=\"text-align: right;\">\n",
       "      <th></th>\n",
       "      <th>SquareFeet</th>\n",
       "      <th>SalePrice</th>\n",
       "    </tr>\n",
       "  </thead>\n",
       "  <tbody>\n",
       "    <tr>\n",
       "      <th>0</th>\n",
       "      <td>1710</td>\n",
       "      <td>208500</td>\n",
       "    </tr>\n",
       "    <tr>\n",
       "      <th>1</th>\n",
       "      <td>1262</td>\n",
       "      <td>181500</td>\n",
       "    </tr>\n",
       "    <tr>\n",
       "      <th>2</th>\n",
       "      <td>1786</td>\n",
       "      <td>223500</td>\n",
       "    </tr>\n",
       "    <tr>\n",
       "      <th>3</th>\n",
       "      <td>1717</td>\n",
       "      <td>140000</td>\n",
       "    </tr>\n",
       "    <tr>\n",
       "      <th>4</th>\n",
       "      <td>2198</td>\n",
       "      <td>250000</td>\n",
       "    </tr>\n",
       "  </tbody>\n",
       "</table>\n",
       "</div>"
      ],
      "text/plain": [
       "   SquareFeet  SalePrice\n",
       "0        1710     208500\n",
       "1        1262     181500\n",
       "2        1786     223500\n",
       "3        1717     140000\n",
       "4        2198     250000"
      ]
     },
     "execution_count": 2,
     "metadata": {},
     "output_type": "execute_result"
    }
   ],
   "source": [
    "#importing .csv file\n",
    "df=pd.read_csv('IowaHousingPrices.csv')\n",
    "df.head()"
   ]
  },
  {
   "cell_type": "code",
   "execution_count": 3,
   "metadata": {},
   "outputs": [],
   "source": [
    "squareFeet=df[['SquareFeet']].values\n",
    "salePrice=df[['SalePrice']].values"
   ]
  },
  {
   "cell_type": "code",
   "execution_count": 7,
   "metadata": {},
   "outputs": [
    {
     "name": "stdout",
     "output_type": "stream",
     "text": [
      "Epoch 1/30\n",
      "WARNING:tensorflow:AutoGraph could not transform <function Model.make_train_function.<locals>.train_function at 0x7fcce036ab70> and will run it as-is.\n",
      "Please report this to the TensorFlow team. When filing the bug, set the verbosity to 10 (on Linux, `export AUTOGRAPH_VERBOSITY=10`) and attach the full output.\n",
      "Cause: Bad argument number for Name: 4, expecting 3\n",
      "To silence this warning, decorate the function with @tf.autograph.experimental.do_not_convert\n",
      "WARNING: AutoGraph could not transform <function Model.make_train_function.<locals>.train_function at 0x7fcce036ab70> and will run it as-is.\n",
      "Please report this to the TensorFlow team. When filing the bug, set the verbosity to 10 (on Linux, `export AUTOGRAPH_VERBOSITY=10`) and attach the full output.\n",
      "Cause: Bad argument number for Name: 4, expecting 3\n",
      "To silence this warning, decorate the function with @tf.autograph.experimental.do_not_convert\n",
      "292/292 [==============================] - 0s 1ms/step - loss: 9195118592.0000\n",
      "Epoch 2/30\n",
      "292/292 [==============================] - 0s 1ms/step - loss: 3198212608.0000\n",
      "Epoch 3/30\n",
      "292/292 [==============================] - 0s 1ms/step - loss: 3204905472.0000\n",
      "Epoch 4/30\n",
      "292/292 [==============================] - 0s 1ms/step - loss: 3196811264.0000\n",
      "Epoch 5/30\n",
      "292/292 [==============================] - 0s 1ms/step - loss: 3198909696.0000\n",
      "Epoch 6/30\n",
      "292/292 [==============================] - 0s 1ms/step - loss: 3198115328.0000\n",
      "Epoch 7/30\n",
      "292/292 [==============================] - 0s 1ms/step - loss: 3180621824.0000\n",
      "Epoch 8/30\n",
      "292/292 [==============================] - 0s 1ms/step - loss: 3206352640.0000\n",
      "Epoch 9/30\n",
      "292/292 [==============================] - 0s 1ms/step - loss: 3197941504.0000\n",
      "Epoch 10/30\n",
      "292/292 [==============================] - 0s 1ms/step - loss: 3226998528.0000\n",
      "Epoch 11/30\n",
      "292/292 [==============================] - 0s 1ms/step - loss: 3204307456.0000\n",
      "Epoch 12/30\n",
      "292/292 [==============================] - 0s 1ms/step - loss: 3215333888.0000\n",
      "Epoch 13/30\n",
      "292/292 [==============================] - 0s 1ms/step - loss: 3168832256.0000\n",
      "Epoch 14/30\n",
      "292/292 [==============================] - 0s 1ms/step - loss: 3189209088.0000\n",
      "Epoch 15/30\n",
      "292/292 [==============================] - 0s 1ms/step - loss: 3201774592.0000\n",
      "Epoch 16/30\n",
      "292/292 [==============================] - 0s 1ms/step - loss: 3195909376.0000\n",
      "Epoch 17/30\n",
      "292/292 [==============================] - 0s 1ms/step - loss: 3207621888.0000\n",
      "Epoch 18/30\n",
      "292/292 [==============================] - 0s 1ms/step - loss: 3212972544.0000\n",
      "Epoch 19/30\n",
      "292/292 [==============================] - 0s 1ms/step - loss: 3213716736.0000\n",
      "Epoch 20/30\n",
      "292/292 [==============================] - 0s 1ms/step - loss: 3195385344.0000\n",
      "Epoch 21/30\n",
      "292/292 [==============================] - 0s 1ms/step - loss: 3182445056.0000\n",
      "Epoch 22/30\n",
      "292/292 [==============================] - 0s 1ms/step - loss: 3244235776.0000\n",
      "Epoch 23/30\n",
      "292/292 [==============================] - 0s 1ms/step - loss: 3221713152.0000\n",
      "Epoch 24/30\n",
      "292/292 [==============================] - 0s 1ms/step - loss: 3212027392.0000\n",
      "Epoch 25/30\n",
      "292/292 [==============================] - 0s 1ms/step - loss: 3215379968.0000\n",
      "Epoch 26/30\n",
      "292/292 [==============================] - 0s 1ms/step - loss: 3199764992.0000\n",
      "Epoch 27/30\n",
      "292/292 [==============================] - 0s 1ms/step - loss: 3229484032.0000\n",
      "Epoch 28/30\n",
      "292/292 [==============================] - 0s 1ms/step - loss: 3205573888.0000\n",
      "Epoch 29/30\n",
      "292/292 [==============================] - 0s 1ms/step - loss: 3191859968.0000\n",
      "Epoch 30/30\n",
      "292/292 [==============================] - 0s 1ms/step - loss: 3227920128.0000\n"
     ]
    },
    {
     "data": {
      "text/plain": [
       "<tensorflow.python.keras.callbacks.History at 0x7fcce0383320>"
      ]
     },
     "execution_count": 7,
     "metadata": {},
     "output_type": "execute_result"
    }
   ],
   "source": [
    "model = tf.keras.Sequential()\n",
    "model.add(tf.keras.layers.Dense(1, input_shape=(1,)))\n",
    "model.compile(tf.keras.optimizers.Adam(lr=1), 'mean_squared_error')\n",
    "model.fit(squareFeet,salePrice, epochs=30, batch_size=5)"
   ]
  },
  {
   "cell_type": "code",
   "execution_count": 8,
   "metadata": {},
   "outputs": [
    {
     "name": "stdout",
     "output_type": "stream",
     "text": [
      "WARNING:tensorflow:AutoGraph could not transform <function Model.make_predict_function.<locals>.predict_function at 0x7fcce83a2a60> and will run it as-is.\n",
      "Please report this to the TensorFlow team. When filing the bug, set the verbosity to 10 (on Linux, `export AUTOGRAPH_VERBOSITY=10`) and attach the full output.\n",
      "Cause: Bad argument number for Name: 4, expecting 3\n",
      "To silence this warning, decorate the function with @tf.autograph.experimental.do_not_convert\n",
      "WARNING: AutoGraph could not transform <function Model.make_predict_function.<locals>.predict_function at 0x7fcce83a2a60> and will run it as-is.\n",
      "Please report this to the TensorFlow team. When filing the bug, set the verbosity to 10 (on Linux, `export AUTOGRAPH_VERBOSITY=10`) and attach the full output.\n",
      "Cause: Bad argument number for Name: 4, expecting 3\n",
      "To silence this warning, decorate the function with @tf.autograph.experimental.do_not_convert\n"
     ]
    },
    {
     "data": {
      "text/plain": [
       "[<matplotlib.lines.Line2D at 0x7fcd6efb2978>]"
      ]
     },
     "execution_count": 8,
     "metadata": {},
     "output_type": "execute_result"
    },
    {
     "data": {
      "image/png": "[encoded data removed]",
      "text/plain": [
       "<Figure size 432x288 with 1 Axes>"
      ]
     },
     "metadata": {
      "needs_background": "light"
     },
     "output_type": "display_data"
    }
   ],
   "source": [
    "df.plot(kind='scatter',x='SquareFeet',y='SalePrice')\n",
    "y_pred = model.predict(squareFeet)\n",
    "plt.plot(squareFeet, y_pred, color='red')"
   ]
  },
  {
   "cell_type": "code",
   "execution_count": 9,
   "metadata": {},
   "outputs": [
    {
     "name": "stdout",
     "output_type": "stream",
     "text": [
      "the price of 2000 sq house is [[232450.28]] dollars\n"
     ]
    }
   ],
   "source": [
    "SF = 2000\n",
    "price = model.predict([SF])\n",
    "print(\"the price of \" + str(SF) + \" sq house is \" + str(price) + \" dollars\")"
   ]
  }
 ],
 "metadata": {
  "kernelspec": {
   "display_name": "Python 3",
   "language": "python",
   "name": "python3"
  },
  "language_info": {
   "codemirror_mode": {
    "name": "ipython",
    "version": 3
   },
   "file_extension": ".py",
   "mimetype": "text/x-python",
   "name": "python",
   "nbconvert_exporter": "python",
   "pygments_lexer": "ipython3",
   "version": "3.7.3"
  }
 },
 "nbformat": 4,
 "nbformat_minor": 4
}
